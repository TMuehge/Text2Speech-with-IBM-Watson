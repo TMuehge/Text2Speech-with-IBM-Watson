{
 "cells": [
  {
   "cell_type": "markdown",
   "id": "9c69524b",
   "metadata": {},
   "source": [
    "**References:**\n",
    "\n",
    "pip install ibm_watson\n",
    "\n",
    "https://youtu.be/A9_0OgW1LZU\n",
    "\n",
    "https://developer.ibm.com/tutorials/using-watson-text-to-speech-and-speech-synthesis-markup-language-ssml/\n",
    "\n",
    "https://github.com/nicknochnack/TextToSpeech/blob/master/Text-to-Speech.ipynb\n",
    "\n",
    "Watson Text to Speech on IBM Cloud: https://cloud.ibm.com/catalog/services/text-to-speech#about"
   ]
  },
  {
   "cell_type": "markdown",
   "id": "bb3fc8a5",
   "metadata": {},
   "source": [
    "## Authenticate"
   ]
  },
  {
   "cell_type": "code",
   "execution_count": 51,
   "id": "be3c7d6f",
   "metadata": {},
   "outputs": [],
   "source": [
    "# Authenticate for the IBM watson text to speech cloud instance\n",
    "url = 'https://api.eu-gb.text-to-speech.watson.cloud.ibm.com/instances/xxxxxxxxxxxxx'\n",
    "apikey = 'XXXXXXXXXXXXXXXX'"
   ]
  },
  {
   "cell_type": "code",
   "execution_count": 1,
   "id": "79423121",
   "metadata": {},
   "outputs": [
    {
     "name": "stdout",
     "output_type": "stream",
     "text": [
      "Intel MKL WARNING: Support of Intel(R) Streaming SIMD Extensions 4.2 (Intel(R) SSE4.2) enabled only processors has been deprecated. Intel oneAPI Math Kernel Library 2025.0 will require Intel(R) Advanced Vector Extensions (Intel(R) AVX) instructions.\n",
      "Intel MKL WARNING: Support of Intel(R) Streaming SIMD Extensions 4.2 (Intel(R) SSE4.2) enabled only processors has been deprecated. Intel oneAPI Math Kernel Library 2025.0 will require Intel(R) Advanced Vector Extensions (Intel(R) AVX) instructions.\n"
     ]
    }
   ],
   "source": [
    "# Inport required Python pachages\n",
    "from ibm_watson import TextToSpeechV1\n",
    "from ibm_cloud_sdk_core.authenticators import IAMAuthenticator"
   ]
  },
  {
   "cell_type": "code",
   "execution_count": 5,
   "id": "0d6bb3be",
   "metadata": {},
   "outputs": [],
   "source": [
    "# Setup Service\n",
    "authenticator = IAMAuthenticator(apikey)\n",
    "tts = TextToSpeechV1(authenticator=authenticator)\n",
    "tts.set_service_url(url)"
   ]
  },
  {
   "cell_type": "markdown",
   "id": "ac92a8fc",
   "metadata": {},
   "source": [
    "## From Text"
   ]
  },
  {
   "cell_type": "markdown",
   "id": "27bec3ed",
   "metadata": {},
   "source": [
    "The Speech Synthesis Markup Language (SSML) is an XML-based markup language that provides annotations of text for speech-synthesis applications. SSML gives developers of speech applications a standard way to control aspects of the synthesis process by enabling you to specify pronunciations, volume, pitch, speed, and other attributes through markup. The elements are available for all supported languages."
   ]
  },
  {
   "cell_type": "code",
   "execution_count": 118,
   "id": "0c48fd1f",
   "metadata": {},
   "outputs": [],
   "source": [
    "# Watsonx\n",
    "text2speech = \"\"\"\n",
    "Sed ut perspiciatis unde omnis iste natus error sit voluptatem accusantium doloremque laudantium,\n",
    "totam rem aperiam, \n",
    "eaque ipsa quae ab illo inventore veritatis et quasi architecto beatae vitae dicta sunt explicabo. \n",
    "<break strength=\\\"x-strong\\\">x-strong pause</break>\"\n",
    "Nemo enim ipsam voluptatem quia voluptas sit aspernatur aut odit aut fugit, \n",
    "sed quia consequuntur magni dolores eos qui ratione voluptatem sequi nesciunt.\n",
    "<break strength=\\\"x-strong\\\">x-strong pause</break>\"\n",
    "Neque porro quisquam est, qui dolorem ipsum quia dolor sit amet, consectetur, \n",
    "adipisci velit, \n",
    "sed quia non numquam eius modi tempora incidunt ut labore et dolore magnam aliquam quaerat voluptatem.\n",
    "<break strength=\\\"x-strong\\\">x-strong pause</break>\"\n",
    "Ut enim ad minima veniam, \n",
    "quis nostrum exercitationem ullam corporis suscipit laboriosam, \n",
    "nisi ut aliquid ex ea commodi consequatur?\n",
    "<break strength=\\\"x-strong\\\">x-strong pause</break>\"\n",
    "Thanks for listening.\n",
    "\"\"\""
   ]
  },
  {
   "cell_type": "code",
   "execution_count": 119,
   "id": "0b7f3953",
   "metadata": {},
   "outputs": [],
   "source": [
    "with open('./text2speech.mp3', 'wb') as audio_file:\n",
    "    res = tts.synthesize(text2speech, accept='audio/mp3', voice='en-US_AllisonV3Voice').get_result()\n",
    "    audio_file.write(res.content)"
   ]
  },
  {
   "cell_type": "markdown",
   "id": "42ae3c24",
   "metadata": {},
   "source": [
    "## From File"
   ]
  },
  {
   "cell_type": "code",
   "execution_count": 67,
   "id": "0758ca29",
   "metadata": {},
   "outputs": [],
   "source": [
    "with open('text2speech.txt', 'r') as f:\n",
    "    text = f.readlines()"
   ]
  },
  {
   "cell_type": "code",
   "execution_count": 68,
   "id": "2d134055",
   "metadata": {},
   "outputs": [],
   "source": [
    "text = [line.replace('\\n','') for line in text]"
   ]
  },
  {
   "cell_type": "code",
   "execution_count": 69,
   "id": "51c6353a",
   "metadata": {},
   "outputs": [],
   "source": [
    "text = ''.join(str(line) for line in text)"
   ]
  },
  {
   "cell_type": "code",
   "execution_count": 71,
   "id": "48646433",
   "metadata": {},
   "outputs": [],
   "source": [
    "with open('./text2speech.mp3', 'wb') as audio_file:\n",
    "    res = tts.synthesize(text2speech, accept='audio/mp3', voice='en-US_AllisonV3Voice').get_result()\n",
    "    audio_file.write(res.content)"
   ]
  }
 ],
 "metadata": {
  "kernelspec": {
   "display_name": "Python 3 (ipykernel)",
   "language": "python",
   "name": "python3"
  },
  "language_info": {
   "codemirror_mode": {
    "name": "ipython",
    "version": 3
   },
   "file_extension": ".py",
   "mimetype": "text/x-python",
   "name": "python",
   "nbconvert_exporter": "python",
   "pygments_lexer": "ipython3",
   "version": "3.9.16"
  }
 },
 "nbformat": 4,
 "nbformat_minor": 5
}
